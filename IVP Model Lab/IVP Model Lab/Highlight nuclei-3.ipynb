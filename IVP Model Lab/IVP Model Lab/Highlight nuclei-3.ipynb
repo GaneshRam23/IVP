{
 "cells": [
  {
   "cell_type": "code",
   "execution_count": null,
   "id": "f4f87f48-d3e5-4b22-8204-df2b51773086",
   "metadata": {},
   "outputs": [
    {
     "name": "stderr",
     "output_type": "stream",
     "text": [
      "Warning: Ignoring XDG_SESSION_TYPE=wayland on Gnome. Use QT_QPA_PLATFORM=wayland to run on Wayland anyway.\n"
     ]
    }
   ],
   "source": [
    "import cv2\n",
    "import numpy as np\n",
    "\n",
    "# Load the H&E stained image\n",
    "hematoxylin_and_eosin_img = cv2.imread(r\"/home/snucse/Desktop/SET-1/image.png\")\n",
    "\n",
    "# Convert the image to grayscale\n",
    "gray_img = cv2.cvtColor(hematoxylin_and_eosin_img, cv2.COLOR_BGR2GRAY)\n",
    "\n",
    "# Apply Gaussian blur to the grayscale image\n",
    "blurred_img = cv2.GaussianBlur(gray_img, (3, 3), 0)  # You can adjust the kernel size (here it's 5x5) as needed\n",
    "\n",
    "# Separate the hematoxylin (blue) channel\n",
    "hematoxylin_channel = hematoxylin_and_eosin_img[:, :, 0]\n",
    "\n",
    "# Thresholding to segment nuclei\n",
    "_, nucleus_mask = cv2.threshold(hematoxylin_channel, 100, 200, cv2.THRESH_BINARY_INV)\n",
    "\n",
    "# Perform morphological operations to clean up the nucleus mask\n",
    "kernel = np.ones((5, 5), np.uint8)\n",
    "nucleus_mask = cv2.morphologyEx(nucleus_mask, cv2.MORPH_CLOSE, kernel)\n",
    "nucleus_mask = cv2.morphologyEx(nucleus_mask, cv2.MORPH_OPEN, kernel)\n",
    "\n",
    "# Find contours of nuclei\n",
    "contours, _ = cv2.findContours(nucleus_mask, cv2.RETR_EXTERNAL, cv2.CHAIN_APPROX_SIMPLE)\n",
    "\n",
    "# Draw contours on the original image\n",
    "nuclei_img = hematoxylin_and_eosin_img.copy()\n",
    "cv2.drawContours(nuclei_img, contours, -1, (0, 255, 0), 2)\n",
    "\n",
    "# Display the image with nuclei contours\n",
    "cv2.imshow('Nuclei Detection', nuclei_img)\n",
    "cv2.waitKey(0)\n",
    "cv2.destroyAllWindows()\n"
   ]
  },
  {
   "cell_type": "code",
   "execution_count": null,
   "id": "0be76274-14a6-48cf-992a-9830a724ddea",
   "metadata": {},
   "outputs": [],
   "source": []
  }
 ],
 "metadata": {
  "kernelspec": {
   "display_name": "Python 3 (ipykernel)",
   "language": "python",
   "name": "python3"
  },
  "language_info": {
   "codemirror_mode": {
    "name": "ipython",
    "version": 3
   },
   "file_extension": ".py",
   "mimetype": "text/x-python",
   "name": "python",
   "nbconvert_exporter": "python",
   "pygments_lexer": "ipython3",
   "version": "3.10.12"
  }
 },
 "nbformat": 4,
 "nbformat_minor": 5
}
