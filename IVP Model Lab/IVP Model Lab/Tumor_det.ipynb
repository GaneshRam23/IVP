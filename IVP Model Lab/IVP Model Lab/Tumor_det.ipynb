{
 "cells": [
  {
   "cell_type": "code",
   "execution_count": 14,
   "metadata": {},
   "outputs": [],
   "source": [
    "import splitfolders"
   ]
  },
  {
   "cell_type": "code",
   "execution_count": 15,
   "metadata": {},
   "outputs": [],
   "source": [
    "# splitfolders.ratio(r'/home/snucse/ivp model lab/Breast Tumor Dataset(4)/Inbreast Dataset', output=\"Data1\", seed=1337, ratio=(0.7, 0.3))"
   ]
  },
  {
   "cell_type": "markdown",
   "metadata": {},
   "source": [
    "# CNN"
   ]
  },
  {
   "cell_type": "code",
   "execution_count": 26,
   "metadata": {},
   "outputs": [
    {
     "name": "stdout",
     "output_type": "stream",
     "text": [
      "Found 108 images belonging to 2 classes.\n",
      "Found 23 images belonging to 2 classes.\n"
     ]
    }
   ],
   "source": [
    "from keras.preprocessing.image import ImageDataGenerator\n",
    "\n",
    "train_dir = r'/home/snucse/ivp model lab/Breast Tumor Dataset(4)/Inbreast Dataset'\n",
    "validation_dir = r'/home/snucse/ivp model lab/Data/val'\n",
    "\n",
    "train_datagen = ImageDataGenerator(\n",
    "    rescale=1./255,\n",
    "    rotation_range=40,\n",
    "    width_shift_range=0.2,\n",
    "    height_shift_range=0.2,\n",
    "    shear_range=0.2,\n",
    "    zoom_range=0.2,\n",
    "    horizontal_flip=True\n",
    ")\n",
    "\n",
    "validation_datagen = ImageDataGenerator(rescale=1./255)\n",
    "\n",
    "batch_size = 32\n",
    "\n",
    "train_generator = train_datagen.flow_from_directory(\n",
    "    train_dir,\n",
    "    target_size=(150, 150),\n",
    "    batch_size=batch_size,\n",
    "    class_mode='binary'\n",
    ")\n",
    "\n",
    "validation_generator = validation_datagen.flow_from_directory(\n",
    "    validation_dir,\n",
    "    target_size=(150, 150),\n",
    "    batch_size=batch_size,\n",
    "    class_mode='binary'\n",
    ")\n"
   ]
  },
  {
   "cell_type": "code",
   "execution_count": 27,
   "metadata": {},
   "outputs": [],
   "source": [
    "from keras.models import Sequential\n",
    "from keras.layers import Conv2D, MaxPooling2D, Flatten, Dense\n",
    "\n",
    "model = Sequential([\n",
    "    Conv2D(32, (3, 3), activation='relu', input_shape=(150, 150, 3)),\n",
    "    MaxPooling2D((2, 2)),\n",
    "    Conv2D(64, (3, 3), activation='relu'),\n",
    "    MaxPooling2D((2, 2)),\n",
    "    Conv2D(128, (3, 3), activation='relu'),\n",
    "    MaxPooling2D((2, 2)),\n",
    "    Conv2D(128, (3, 3), activation='relu'),\n",
    "    MaxPooling2D((2, 2)),\n",
    "    Flatten(),\n",
    "    Dense(512, activation='relu'),\n",
    "    Dense(1, activation='sigmoid')\n",
    "])\n",
    "\n",
    "model.compile(optimizer='adam', loss='binary_crossentropy', metrics=['accuracy'])"
   ]
  },
  {
   "cell_type": "code",
   "execution_count": 25,
   "metadata": {},
   "outputs": [
    {
     "name": "stderr",
     "output_type": "stream",
     "text": [
      "/tmp/ipykernel_13575/3351744738.py:1: UserWarning: `Model.fit_generator` is deprecated and will be removed in a future version. Please use `Model.fit`, which supports generators.\n",
      "  history = model.fit_generator(\n"
     ]
    },
    {
     "name": "stdout",
     "output_type": "stream",
     "text": [
      "Epoch 1/25\n",
      "4/4 [==============================] - 12s 3s/step - loss: 0.6691 - accuracy: 0.5741 - val_loss: 0.6797 - val_accuracy: 0.6471\n",
      "Epoch 2/25\n",
      "4/4 [==============================] - 9s 2s/step - loss: 0.6833 - accuracy: 0.6574 - val_loss: 0.6680 - val_accuracy: 0.6471\n",
      "Epoch 3/25\n",
      "4/4 [==============================] - 9s 2s/step - loss: 0.6600 - accuracy: 0.6574 - val_loss: 0.6644 - val_accuracy: 0.6471\n",
      "Epoch 4/25\n",
      "4/4 [==============================] - 10s 3s/step - loss: 0.6642 - accuracy: 0.6574 - val_loss: 0.6658 - val_accuracy: 0.6471\n",
      "Epoch 5/25\n",
      "4/4 [==============================] - 10s 2s/step - loss: 0.6575 - accuracy: 0.6574 - val_loss: 0.6659 - val_accuracy: 0.6471\n",
      "Epoch 6/25\n",
      "4/4 [==============================] - 10s 2s/step - loss: 0.6581 - accuracy: 0.6574 - val_loss: 0.6623 - val_accuracy: 0.6471\n",
      "Epoch 7/25\n",
      "4/4 [==============================] - 10s 2s/step - loss: 0.6897 - accuracy: 0.6574 - val_loss: 0.6615 - val_accuracy: 0.6471\n",
      "Epoch 8/25\n",
      "4/4 [==============================] - 9s 2s/step - loss: 0.6635 - accuracy: 0.6574 - val_loss: 0.6651 - val_accuracy: 0.6471\n",
      "Epoch 9/25\n",
      "4/4 [==============================] - 10s 3s/step - loss: 0.6579 - accuracy: 0.6574 - val_loss: 0.6622 - val_accuracy: 0.6471\n",
      "Epoch 10/25\n",
      "4/4 [==============================] - 9s 2s/step - loss: 0.6500 - accuracy: 0.6574 - val_loss: 0.6527 - val_accuracy: 0.6471\n",
      "Epoch 11/25\n",
      "4/4 [==============================] - 10s 3s/step - loss: 0.6437 - accuracy: 0.6574 - val_loss: 0.6536 - val_accuracy: 0.6471\n",
      "Epoch 12/25\n",
      "4/4 [==============================] - 10s 3s/step - loss: 0.6526 - accuracy: 0.6574 - val_loss: 0.6582 - val_accuracy: 0.6471\n",
      "Epoch 13/25\n",
      "4/4 [==============================] - 10s 2s/step - loss: 0.6459 - accuracy: 0.6574 - val_loss: 0.6543 - val_accuracy: 0.6471\n",
      "Epoch 14/25\n",
      "4/4 [==============================] - 9s 2s/step - loss: 0.6451 - accuracy: 0.6574 - val_loss: 0.6556 - val_accuracy: 0.6471\n",
      "Epoch 15/25\n",
      "4/4 [==============================] - 10s 3s/step - loss: 0.6371 - accuracy: 0.6574 - val_loss: 0.6558 - val_accuracy: 0.6471\n",
      "Epoch 16/25\n",
      "4/4 [==============================] - 10s 2s/step - loss: 0.6562 - accuracy: 0.6574 - val_loss: 0.6559 - val_accuracy: 0.6471\n",
      "Epoch 17/25\n",
      "4/4 [==============================] - 10s 3s/step - loss: 0.6429 - accuracy: 0.6574 - val_loss: 0.6532 - val_accuracy: 0.6471\n",
      "Epoch 18/25\n",
      "4/4 [==============================] - 10s 3s/step - loss: 0.6467 - accuracy: 0.6574 - val_loss: 0.6513 - val_accuracy: 0.6471\n",
      "Epoch 19/25\n",
      "4/4 [==============================] - 9s 2s/step - loss: 0.6443 - accuracy: 0.6574 - val_loss: 0.6502 - val_accuracy: 0.6471\n",
      "Epoch 20/25\n",
      "4/4 [==============================] - 9s 3s/step - loss: 0.6439 - accuracy: 0.6574 - val_loss: 0.6485 - val_accuracy: 0.6471\n",
      "Epoch 21/25\n",
      "4/4 [==============================] - 10s 2s/step - loss: 0.6450 - accuracy: 0.6574 - val_loss: 0.6477 - val_accuracy: 0.6471\n",
      "Epoch 22/25\n",
      "4/4 [==============================] - 9s 3s/step - loss: 0.6401 - accuracy: 0.6574 - val_loss: 0.6466 - val_accuracy: 0.6471\n",
      "Epoch 23/25\n",
      "4/4 [==============================] - 10s 3s/step - loss: 0.6452 - accuracy: 0.6574 - val_loss: 0.6458 - val_accuracy: 0.6471\n",
      "Epoch 24/25\n",
      "4/4 [==============================] - 9s 3s/step - loss: 0.6488 - accuracy: 0.6574 - val_loss: 0.6458 - val_accuracy: 0.6471\n",
      "Epoch 25/25\n",
      "4/4 [==============================] - 10s 3s/step - loss: 0.6474 - accuracy: 0.6574 - val_loss: 0.6473 - val_accuracy: 0.6471\n"
     ]
    }
   ],
   "source": [
    "history = model.fit_generator(\n",
    "    train_generator,\n",
    "    epochs=25,\n",
    "    validation_data=validation_generator,\n",
    ")"
   ]
  },
  {
   "cell_type": "code",
   "execution_count": 49,
   "metadata": {},
   "outputs": [
    {
     "name": "stdout",
     "output_type": "stream",
     "text": [
      "Validation Accuracy: 0.6470588445663452\n"
     ]
    }
   ],
   "source": [
    "val_acc = history.history['val_accuracy'][-1]\n",
    "print(\"Validation Accuracy:\", val_acc)"
   ]
  },
  {
   "cell_type": "markdown",
   "metadata": {},
   "source": [
    "CNN train accuracy: 65.74, Validation accuracy: 64.71 "
   ]
  },
  {
   "cell_type": "markdown",
   "metadata": {},
   "source": [
    "# ML"
   ]
  },
  {
   "cell_type": "markdown",
   "metadata": {},
   "source": [
    "Pixel intensity"
   ]
  },
  {
   "cell_type": "code",
   "execution_count": 61,
   "metadata": {},
   "outputs": [],
   "source": [
    "import os\n",
    "import cv2\n",
    "import numpy as np\n",
    "from sklearn.model_selection import train_test_split\n",
    "from sklearn.svm import SVC\n",
    "from sklearn.metrics import accuracy_score\n",
    "from sklearn.preprocessing import LabelEncoder\n",
    "from sklearn.preprocessing import StandardScaler\n",
    "\n",
    "def extract_features(image):\n",
    "    resized_image = cv2.resize(image, (100, 100)).flatten()\n",
    "    return resized_image\n",
    "\n",
    "def load_data(directory):\n",
    "    X = []\n",
    "    y = []\n",
    "    for class_name in os.listdir(directory):\n",
    "        class_dir = os.path.join(directory, class_name)\n",
    "        for filename in os.listdir(class_dir):\n",
    "            img = cv2.imread(os.path.join(class_dir, filename))\n",
    "            if img is not None:\n",
    "                features = extract_features(img)\n",
    "                X.append(features)\n",
    "                y.append(class_name)\n",
    "    return np.array(X), np.array(y)\n",
    "\n",
    "directory1 = r'/home/snucse/ivp model lab/Breast Tumor Dataset(4)/Inbreast Dataset/'\n",
    "directory2 = r\"/home/snucse/ivp model lab/Breast Tumor Dataset(4)/Inbreast Dataset/Malignant\"\n",
    "\n",
    "X1, y1 = load_data(directory1)"
   ]
  },
  {
   "cell_type": "code",
   "execution_count": 48,
   "metadata": {},
   "outputs": [
    {
     "name": "stdout",
     "output_type": "stream",
     "text": [
      "Accuracy: 0.7272727272727273\n"
     ]
    }
   ],
   "source": [
    "from sklearn.ensemble import RandomForestClassifier\n",
    "X_train, X_test, y_train, y_test = train_test_split(X1, y1, test_size=0.2, random_state=3)\n",
    "\n",
    "scaler = StandardScaler()\n",
    "X_train = scaler.fit_transform(X_train)\n",
    "X_test = scaler.transform(X_test)\n",
    "\n",
    "classifier = RandomForestClassifier()\n",
    "classifier.fit(X_train, y_train)\n",
    "\n",
    "y_pred = classifier.predict(X_test)\n",
    "accuracy = accuracy_score(y_test, y_pred)\n",
    "print(\"Accuracy:\", accuracy)"
   ]
  },
  {
   "cell_type": "markdown",
   "metadata": {},
   "source": [
    "HOG"
   ]
  },
  {
   "cell_type": "code",
   "execution_count": 50,
   "metadata": {},
   "outputs": [],
   "source": [
    "import os\n",
    "import cv2\n",
    "import numpy as np\n",
    "from skimage.feature import hog\n",
    "from skimage import exposure"
   ]
  },
  {
   "cell_type": "code",
   "execution_count": null,
   "metadata": {},
   "outputs": [],
   "source": [
    "def extract_hog_features(image):\n",
    "    fd, hog_image = hog(image, orientations=9, pixels_per_cell=(8, 8),\n",
    "                        cells_per_block=(2, 2), visualize=True, channel_axis = 2)\n",
    "    hog_image_rescaled = exposure.rescale_intensity(hog_image, in_range=(0, 10))\n",
    "    return fd\n",
    "\n",
    "def load_data(directory):\n",
    "    X = []\n",
    "    y = []\n",
    "    for class_name in os.listdir(directory):\n",
    "        class_dir = os.path.join(directory, class_name)\n",
    "        for filename in os.listdir(class_dir):\n",
    "            img = cv2.imread(os.path.join(class_dir, filename))\n",
    "            if img is not None:\n",
    "                img = cv2.cvtColor(img, cv2.COLOR_BGR2RGB)\n",
    "                hog_features = extract_hog_features(img)\n",
    "                X.append(hog_features)\n",
    "                y.append(class_name)\n",
    "    return np.array(X), np.array(y)\n",
    "\n",
    "directory1 = r'/home/snucse/ivp model lab/Breast Tumor Dataset(4)/Inbreast Dataset/'\n",
    "\n",
    "X1, y1 = load_data(directory1)"
   ]
  },
  {
   "cell_type": "markdown",
   "metadata": {},
   "source": [
    "lack time ran for more than 12 mins"
   ]
  },
  {
   "cell_type": "markdown",
   "metadata": {},
   "source": [
    "Colour histogram"
   ]
  },
  {
   "cell_type": "code",
   "execution_count": null,
   "metadata": {},
   "outputs": [],
   "source": [
    "def extract_color_histogram(image):\n",
    "    hsv_image = cv2.cvtColor(image, cv2.COLOR_BGR2HSV)\n",
    "    \n",
    "    hist_hue = cv2.calcHist([hsv_image], [0], None, [256], [0, 256])\n",
    "    hist_saturation = cv2.calcHist([hsv_image], [1], None, [256], [0, 256])\n",
    "    hist_value = cv2.calcHist([hsv_image], [2], None, [256], [0, 256])\n",
    "    \n",
    "    hist_features = np.concatenate([hist_hue, hist_saturation, hist_value]).flatten()\n",
    "    \n",
    "    return hist_features\n",
    "\n",
    "def load_data(directory):\n",
    "    X = []\n",
    "    y = []\n",
    "    for class_name in os.listdir(directory):\n",
    "        class_dir = os.path.join(directory, class_name)\n",
    "        for filename in os.listdir(class_dir):\n",
    "            img = cv2.imread(os.path.join(class_dir, filename))\n",
    "            if img is not None:\n",
    "                hist_features = extract_color_histogram(img)\n",
    "                X.append(hist_features)\n",
    "                y.append(class_name)\n",
    "    return np.array(X), np.array(y)\n",
    "\n",
    "directory1 = r'/home/snucse/ivp model lab/Breast Tumor Dataset(4)/Inbreast Dataset/'\n",
    "\n",
    "X2, y2 = load_data(directory1)"
   ]
  },
  {
   "cell_type": "code",
   "execution_count": null,
   "metadata": {},
   "outputs": [
    {
     "name": "stdout",
     "output_type": "stream",
     "text": [
      "Accuracy: 0.6818181818181818\n"
     ]
    }
   ],
   "source": [
    "from sklearn.ensemble import RandomForestClassifier\n",
    "X_train, X_test, y_train, y_test = train_test_split(X2, y2, test_size=0.2)\n",
    "\n",
    "scaler = StandardScaler()\n",
    "X_train = scaler.fit_transform(X_train)\n",
    "X_test = scaler.transform(X_test)\n",
    "\n",
    "classifier = RandomForestClassifier()\n",
    "classifier.fit(X_train, y_train)\n",
    "\n",
    "y_pred = classifier.predict(X_test)\n",
    "accuracy = accuracy_score(y_test, y_pred)\n",
    "print(\"Accuracy:\", accuracy)"
   ]
  }
 ],
 "metadata": {
  "kernelspec": {
   "display_name": "base",
   "language": "python",
   "name": "python3"
  },
  "language_info": {
   "codemirror_mode": {
    "name": "ipython",
    "version": 3
   },
   "file_extension": ".py",
   "mimetype": "text/x-python",
   "name": "python",
   "nbconvert_exporter": "python",
   "pygments_lexer": "ipython3",
   "version": "3.11.4"
  }
 },
 "nbformat": 4,
 "nbformat_minor": 2
}
